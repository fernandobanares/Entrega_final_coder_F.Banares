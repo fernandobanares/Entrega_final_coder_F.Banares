{
 "cells": [
  {
   "cell_type": "markdown",
   "id": "da681471",
   "metadata": {},
   "source": [
    "**Análisis del Conjunto de Datos de Predicción de Diabetes**\n",
    "\n",
    "El análisis del conjunto de datos de predicción de diabetes presenta una valiosa oportunidad para comprender y predecir los factores que contribuyen al desarrollo de esta enfermedad crónica. Este conjunto de datos proporciona información sobre diversos atributos de las personas, como la edad, el IMC, el género y los niveles de glucosa en la sangre, entre otros.\n",
    "\n",
    "La motivación detrás de este análisis radica en la necesidad de identificar patrones y relaciones entre estas variables con el fin de desarrollar mejores estrategias de prevención y tratamiento de la diabetes. Al comprender los factores de riesgo, como la hipertensión, el IMC (BMI) y los niveles de glucosa, podemos mejorar la detección temprana y personalizar la atención médica para aquellos en riesgo.\n",
    "\n",
    "Este análisis beneficiará a una amplia audiencia, incluyendo profesionales de la salud, investigadores, expertos en salud pública y responsables de la formulación de políticas. Los profesionales de la salud podrán utilizar los resultados para mejorar el asesoramiento y la educación de los pacientes, así como para identificar grupos de alto riesgo que requieran intervenciones específicas. Los investigadores podrán aprovechar los hallazgos para desarrollar modelos de predicción más precisos y guiar investigaciones futuras sobre los factores subyacentes a la diabetes. Los responsables de la formulación de políticas y expertos en salud pública podrán utilizar los resultados para diseñar programas de prevención y promoción de la salud dirigidos a la población en general.\n",
    "\n",
    "En resumen, el análisis de este conjunto de datos sobre predicción de diabetes tiene como objetivo proporcionar conocimientos clave sobre los factores de riesgo y las características asociadas a esta enfermedad, con el fin de mejorar la prevención, el diagnóstico y el tratamiento, y así beneficiar a profesionales de la salud, investigadores y responsables de la formulación de políticas en el campo de la diabetes y la salud pública en general.\n",
    "\n",
    "\n"
   ]
  },
  {
   "cell_type": "markdown",
   "id": "977a2312",
   "metadata": {},
   "source": [
    "**Fuente de Datos Original:**\n",
    "[Kaggle - Diabetes Prediction Dataset](https://www.kaggle.com/datasets/iammustafatz/diabetes-prediction-dataset)\n"
   ]
  },
  {
   "cell_type": "markdown",
   "id": "10f51d1c",
   "metadata": {},
   "source": [
    "**Descripción de Variables:**\n",
    "\n",
    "| Variable              | Descripción                              |\n",
    "|-----------------------|------------------------------------------|\n",
    "| gender                | Género                                   |\n",
    "| age                   | Edad                                     |\n",
    "| heart_disease         | Ha padecido de un infarto                |\n",
    "| smoking_history       | Historial de fumador                     |\n",
    "| bmi                   | Índice de Masa Corporal (BMI)            |\n",
    "| HbA1c_level           | Nivel de Hemoglobina en la Sangre        |\n",
    "| blood_glucose_level   | Nivel de Glucosa en la Sangre            |\n",
    "| diabetes              | Tiene Diabetes                            |\n"
   ]
  },
  {
   "cell_type": "markdown",
   "id": "173d6745",
   "metadata": {},
   "source": [
    "### Preparación del Ambiente de Trabajo\n",
    "\n",
    "A continuación, prepararemos nuestro ambiente de trabajo: importaremos las librerías necesarias para nuestro análisis y cargaremos los datos.\n"
   ]
  },
  {
   "cell_type": "code",
   "execution_count": 2,
   "id": "b80dcf26",
   "metadata": {},
   "outputs": [],
   "source": [
    "# Import libraries\n",
    "import pandas as pd\n",
    "import numpy as np\n",
    "import matplotlib.pyplot as plt\n",
    "import seaborn as sns\n",
    "from scipy.stats import chi2_contingency\n",
    "%matplotlib inline"
   ]
  },
  {
   "cell_type": "code",
   "execution_count": 41,
   "id": "3ad4a3d0",
   "metadata": {},
   "outputs": [],
   "source": [
    "import warnings\n",
    "warnings.filterwarnings(\"ignore\")"
   ]
  },
  {
   "cell_type": "code",
   "execution_count": 3,
   "id": "e0688f3d",
   "metadata": {},
   "outputs": [
    {
     "name": "stdout",
     "output_type": "stream",
     "text": [
      "Observaciones : 100,000\n",
      "Columnas      : 9\n"
     ]
    }
   ],
   "source": [
    "# Load the dataset\n",
    "\n",
    "df = pd.read_csv(\"diabetes.csv\", delimiter = ',')\n",
    "print(f\"Observaciones : {df.shape[0]:,}\")\n",
    "print(f\"Columnas      : {df.shape[1]}\")"
   ]
  },
  {
   "cell_type": "code",
   "execution_count": 4,
   "id": "9bf1c9df",
   "metadata": {},
   "outputs": [
    {
     "data": {
      "text/plain": [
       "Index(['gender', 'age', 'hypertension', 'heart_disease', 'smoking_history',\n",
       "       'bmi', 'HbA1c_level', 'blood_glucose_level', 'diabetes'],\n",
       "      dtype='object')"
      ]
     },
     "execution_count": 4,
     "metadata": {},
     "output_type": "execute_result"
    }
   ],
   "source": [
    "df.columns"
   ]
  },
  {
   "cell_type": "code",
   "execution_count": 5,
   "id": "9b9cc49e",
   "metadata": {
    "scrolled": true
   },
   "outputs": [
    {
     "data": {
      "text/html": [
       "<div>\n",
       "<style scoped>\n",
       "    .dataframe tbody tr th:only-of-type {\n",
       "        vertical-align: middle;\n",
       "    }\n",
       "\n",
       "    .dataframe tbody tr th {\n",
       "        vertical-align: top;\n",
       "    }\n",
       "\n",
       "    .dataframe thead th {\n",
       "        text-align: right;\n",
       "    }\n",
       "</style>\n",
       "<table border=\"1\" class=\"dataframe\">\n",
       "  <thead>\n",
       "    <tr style=\"text-align: right;\">\n",
       "      <th></th>\n",
       "      <th>gender</th>\n",
       "      <th>age</th>\n",
       "      <th>hypertension</th>\n",
       "      <th>heart_disease</th>\n",
       "      <th>smoking_history</th>\n",
       "      <th>bmi</th>\n",
       "      <th>HbA1c_level</th>\n",
       "      <th>blood_glucose_level</th>\n",
       "      <th>diabetes</th>\n",
       "    </tr>\n",
       "  </thead>\n",
       "  <tbody>\n",
       "    <tr>\n",
       "      <th>0</th>\n",
       "      <td>Female</td>\n",
       "      <td>80.0</td>\n",
       "      <td>0</td>\n",
       "      <td>1</td>\n",
       "      <td>never</td>\n",
       "      <td>25.19</td>\n",
       "      <td>6.6</td>\n",
       "      <td>140</td>\n",
       "      <td>0</td>\n",
       "    </tr>\n",
       "    <tr>\n",
       "      <th>1</th>\n",
       "      <td>Female</td>\n",
       "      <td>54.0</td>\n",
       "      <td>0</td>\n",
       "      <td>0</td>\n",
       "      <td>No Info</td>\n",
       "      <td>27.32</td>\n",
       "      <td>6.6</td>\n",
       "      <td>80</td>\n",
       "      <td>0</td>\n",
       "    </tr>\n",
       "    <tr>\n",
       "      <th>2</th>\n",
       "      <td>Male</td>\n",
       "      <td>28.0</td>\n",
       "      <td>0</td>\n",
       "      <td>0</td>\n",
       "      <td>never</td>\n",
       "      <td>27.32</td>\n",
       "      <td>5.7</td>\n",
       "      <td>158</td>\n",
       "      <td>0</td>\n",
       "    </tr>\n",
       "    <tr>\n",
       "      <th>3</th>\n",
       "      <td>Female</td>\n",
       "      <td>36.0</td>\n",
       "      <td>0</td>\n",
       "      <td>0</td>\n",
       "      <td>current</td>\n",
       "      <td>23.45</td>\n",
       "      <td>5.0</td>\n",
       "      <td>155</td>\n",
       "      <td>0</td>\n",
       "    </tr>\n",
       "    <tr>\n",
       "      <th>4</th>\n",
       "      <td>Male</td>\n",
       "      <td>76.0</td>\n",
       "      <td>1</td>\n",
       "      <td>1</td>\n",
       "      <td>current</td>\n",
       "      <td>20.14</td>\n",
       "      <td>4.8</td>\n",
       "      <td>155</td>\n",
       "      <td>0</td>\n",
       "    </tr>\n",
       "  </tbody>\n",
       "</table>\n",
       "</div>"
      ],
      "text/plain": [
       "   gender   age  hypertension  heart_disease smoking_history    bmi  \\\n",
       "0  Female  80.0             0              1           never  25.19   \n",
       "1  Female  54.0             0              0         No Info  27.32   \n",
       "2    Male  28.0             0              0           never  27.32   \n",
       "3  Female  36.0             0              0         current  23.45   \n",
       "4    Male  76.0             1              1         current  20.14   \n",
       "\n",
       "   HbA1c_level  blood_glucose_level  diabetes  \n",
       "0          6.6                  140         0  \n",
       "1          6.6                   80         0  \n",
       "2          5.7                  158         0  \n",
       "3          5.0                  155         0  \n",
       "4          4.8                  155         0  "
      ]
     },
     "execution_count": 5,
     "metadata": {},
     "output_type": "execute_result"
    }
   ],
   "source": [
    "df.head()"
   ]
  },
  {
   "cell_type": "code",
   "execution_count": 6,
   "id": "c2191ceb",
   "metadata": {},
   "outputs": [
    {
     "name": "stdout",
     "output_type": "stream",
     "text": [
      "<class 'pandas.core.frame.DataFrame'>\n",
      "RangeIndex: 100000 entries, 0 to 99999\n",
      "Data columns (total 9 columns):\n",
      " #   Column               Non-Null Count   Dtype  \n",
      "---  ------               --------------   -----  \n",
      " 0   gender               100000 non-null  object \n",
      " 1   age                  100000 non-null  float64\n",
      " 2   hypertension         100000 non-null  int64  \n",
      " 3   heart_disease        100000 non-null  int64  \n",
      " 4   smoking_history      100000 non-null  object \n",
      " 5   bmi                  100000 non-null  float64\n",
      " 6   HbA1c_level          100000 non-null  float64\n",
      " 7   blood_glucose_level  100000 non-null  int64  \n",
      " 8   diabetes             100000 non-null  int64  \n",
      "dtypes: float64(3), int64(4), object(2)\n",
      "memory usage: 6.9+ MB\n"
     ]
    }
   ],
   "source": [
    "# Usamos info para detectar si hay nulos en nuestro dataset\n",
    "df.info()"
   ]
  },
  {
   "cell_type": "code",
   "execution_count": 29,
   "id": "3a27d431",
   "metadata": {},
   "outputs": [
    {
     "name": "stdout",
     "output_type": "stream",
     "text": [
      "Columna: gender\n",
      "Female    58552\n",
      "Male      41430\n",
      "Other        18\n",
      "Name: gender, dtype: int64\n",
      "\n",
      "\n",
      "Columna: age\n",
      "80.00    5621\n",
      "51.00    1619\n",
      "47.00    1574\n",
      "48.00    1568\n",
      "53.00    1542\n",
      "         ... \n",
      "0.48       83\n",
      "1.00       83\n",
      "0.40       66\n",
      "0.16       59\n",
      "0.08       36\n",
      "Name: age, Length: 102, dtype: int64\n",
      "\n",
      "\n",
      "Columna: hypertension\n",
      "0    92515\n",
      "1     7485\n",
      "Name: hypertension, dtype: int64\n",
      "\n",
      "\n",
      "Columna: heart_disease\n",
      "0    96058\n",
      "1     3942\n",
      "Name: heart_disease, dtype: int64\n",
      "\n",
      "\n",
      "Columna: smoking_history\n",
      "No Info        35816\n",
      "never          35095\n",
      "former          9352\n",
      "current         9286\n",
      "not current     6447\n",
      "ever            4004\n",
      "Name: smoking_history, dtype: int64\n",
      "\n",
      "\n",
      "Columna: bmi\n",
      "27.32    25495\n",
      "23.00      103\n",
      "27.12      101\n",
      "27.80      100\n",
      "24.96      100\n",
      "         ...  \n",
      "58.23        1\n",
      "48.18        1\n",
      "55.57        1\n",
      "57.07        1\n",
      "60.52        1\n",
      "Name: bmi, Length: 4247, dtype: int64\n",
      "\n",
      "\n",
      "Columna: HbA1c_level\n",
      "6.6    8540\n",
      "5.7    8413\n",
      "6.5    8362\n",
      "5.8    8321\n",
      "6.0    8295\n",
      "6.2    8269\n",
      "6.1    8048\n",
      "3.5    7662\n",
      "4.8    7597\n",
      "4.5    7585\n",
      "4.0    7542\n",
      "5.0    7471\n",
      "8.8     661\n",
      "8.2     661\n",
      "9.0     654\n",
      "7.5     643\n",
      "6.8     642\n",
      "7.0     634\n",
      "Name: HbA1c_level, dtype: int64\n",
      "\n",
      "\n",
      "Columna: blood_glucose_level\n",
      "130    7794\n",
      "159    7759\n",
      "140    7732\n",
      "160    7712\n",
      "126    7702\n",
      "145    7679\n",
      "200    7600\n",
      "155    7575\n",
      "90     7112\n",
      "80     7106\n",
      "158    7026\n",
      "100    7025\n",
      "85     6901\n",
      "280     729\n",
      "300     674\n",
      "240     636\n",
      "260     635\n",
      "220     603\n",
      "Name: blood_glucose_level, dtype: int64\n",
      "\n",
      "\n",
      "Columna: diabetes\n",
      "0    91500\n",
      "1     8500\n",
      "Name: diabetes, dtype: int64\n",
      "\n",
      "\n"
     ]
    }
   ],
   "source": [
    "# Itera a través de las columnas del DataFrame\n",
    "for col in df.columns:\n",
    "    # Calcula y muestra la cantidad de cada valor en la columna\n",
    "    print(f\"Columna: {col}\")\n",
    "    print(df[col].value_counts())\n",
    "    print(\"\\n\")"
   ]
  },
  {
   "cell_type": "code",
   "execution_count": 9,
   "id": "50e27672",
   "metadata": {},
   "outputs": [
    {
     "name": "stdout",
     "output_type": "stream",
     "text": [
      "Columnas Categóricas:\n",
      "['gender', 'smoking_history', 'diabetes', 'hypertension', 'heart_disease']\n",
      "\n",
      "Columnas Numéricas:\n",
      "['age', 'bmi', 'HbA1c_level', 'blood_glucose_level']\n"
     ]
    }
   ],
   "source": [
    "# Mover las columnas binarias en las columnas numéricas a la lista de columnas categóricas para el EDA\n",
    "cat_cols += [\"diabetes\", \"hypertension\", \"heart_disease\"]\n",
    "\n",
    "# Actualizar la lista de columnas numéricas\n",
    "num_cols = [x for x in num_cols if x not in [\"diabetes\", \"hypertension\", \"heart_disease\"]]\n",
    "\n",
    "# Mostrar las columnas actualizadas\n",
    "print(\"Columnas Categóricas:\")\n",
    "print(cat_cols)\n",
    "print(\"\\nColumnas Numéricas:\")\n",
    "print(num_cols)\n"
   ]
  },
  {
   "cell_type": "markdown",
   "id": "bef73675",
   "metadata": {},
   "source": [
    "**Inferencia**\n",
    "\n",
    "Tenemos solo 5 columnas categóricas y 4 columnas numéricas.\n"
   ]
  },
  {
   "cell_type": "code",
   "execution_count": 34,
   "id": "d1675a9b",
   "metadata": {},
   "outputs": [
    {
     "name": "stdout",
     "output_type": "stream",
     "text": [
      "----------------------------------------------------------------------------------------------------\n",
      "Column Name - gender\n",
      "----------------------------------------------------------------------------------------------------\n",
      "Female    58552\n",
      "Male      41430\n",
      "Other        18\n",
      "Name: gender, dtype: int64\n",
      "----------------------------------------------------------------------------------------------------\n",
      "Column Name - smoking_history\n",
      "----------------------------------------------------------------------------------------------------\n",
      "No Info        35816\n",
      "never          35095\n",
      "former          9352\n",
      "current         9286\n",
      "not current     6447\n",
      "ever            4004\n",
      "Name: smoking_history, dtype: int64\n",
      "----------------------------------------------------------------------------------------------------\n",
      "Column Name - diabetes\n",
      "----------------------------------------------------------------------------------------------------\n",
      "0    91500\n",
      "1     8500\n",
      "Name: diabetes, dtype: int64\n",
      "----------------------------------------------------------------------------------------------------\n",
      "Column Name - hypertension\n",
      "----------------------------------------------------------------------------------------------------\n",
      "0    92515\n",
      "1     7485\n",
      "Name: hypertension, dtype: int64\n",
      "----------------------------------------------------------------------------------------------------\n",
      "Column Name - heart_disease\n",
      "----------------------------------------------------------------------------------------------------\n",
      "0    96058\n",
      "1     3942\n",
      "Name: heart_disease, dtype: int64\n"
     ]
    }
   ],
   "source": [
    "# función para detectar caracteres especiales\n",
    "for c in cat_cols:\n",
    "    print('-'*100)\n",
    "    print(f'Column Name - {c}')\n",
    "    print('-'*100)\n",
    "    print(df[c].value_counts())"
   ]
  },
  {
   "cell_type": "markdown",
   "id": "3e4d3344",
   "metadata": {},
   "source": [
    "**Resultado del Análisis**\n",
    "\n",
    "- No se encontraron caracteres especiales ni motivos para eliminar alguna columna en nuestro DataFrame."
   ]
  },
  {
   "cell_type": "code",
   "execution_count": 10,
   "id": "7e9e999a",
   "metadata": {
    "scrolled": true
   },
   "outputs": [
    {
     "data": {
      "text/html": [
       "<div>\n",
       "<style scoped>\n",
       "    .dataframe tbody tr th:only-of-type {\n",
       "        vertical-align: middle;\n",
       "    }\n",
       "\n",
       "    .dataframe tbody tr th {\n",
       "        vertical-align: top;\n",
       "    }\n",
       "\n",
       "    .dataframe thead th {\n",
       "        text-align: right;\n",
       "    }\n",
       "</style>\n",
       "<table border=\"1\" class=\"dataframe\">\n",
       "  <thead>\n",
       "    <tr style=\"text-align: right;\">\n",
       "      <th></th>\n",
       "      <th>age</th>\n",
       "      <th>bmi</th>\n",
       "      <th>HbA1c_level</th>\n",
       "      <th>blood_glucose_level</th>\n",
       "    </tr>\n",
       "  </thead>\n",
       "  <tbody>\n",
       "    <tr>\n",
       "      <th>count</th>\n",
       "      <td>100000.00</td>\n",
       "      <td>100000.00</td>\n",
       "      <td>100000.00</td>\n",
       "      <td>100000.00</td>\n",
       "    </tr>\n",
       "    <tr>\n",
       "      <th>mean</th>\n",
       "      <td>41.89</td>\n",
       "      <td>27.32</td>\n",
       "      <td>5.53</td>\n",
       "      <td>138.06</td>\n",
       "    </tr>\n",
       "    <tr>\n",
       "      <th>std</th>\n",
       "      <td>22.52</td>\n",
       "      <td>6.64</td>\n",
       "      <td>1.07</td>\n",
       "      <td>40.71</td>\n",
       "    </tr>\n",
       "    <tr>\n",
       "      <th>min</th>\n",
       "      <td>0.08</td>\n",
       "      <td>10.01</td>\n",
       "      <td>3.50</td>\n",
       "      <td>80.00</td>\n",
       "    </tr>\n",
       "    <tr>\n",
       "      <th>25%</th>\n",
       "      <td>24.00</td>\n",
       "      <td>23.63</td>\n",
       "      <td>4.80</td>\n",
       "      <td>100.00</td>\n",
       "    </tr>\n",
       "    <tr>\n",
       "      <th>50%</th>\n",
       "      <td>43.00</td>\n",
       "      <td>27.32</td>\n",
       "      <td>5.80</td>\n",
       "      <td>140.00</td>\n",
       "    </tr>\n",
       "    <tr>\n",
       "      <th>75%</th>\n",
       "      <td>60.00</td>\n",
       "      <td>29.58</td>\n",
       "      <td>6.20</td>\n",
       "      <td>159.00</td>\n",
       "    </tr>\n",
       "    <tr>\n",
       "      <th>max</th>\n",
       "      <td>80.00</td>\n",
       "      <td>95.69</td>\n",
       "      <td>9.00</td>\n",
       "      <td>300.00</td>\n",
       "    </tr>\n",
       "  </tbody>\n",
       "</table>\n",
       "</div>"
      ],
      "text/plain": [
       "             age        bmi  HbA1c_level  blood_glucose_level\n",
       "count  100000.00  100000.00    100000.00            100000.00\n",
       "mean       41.89      27.32         5.53               138.06\n",
       "std        22.52       6.64         1.07                40.71\n",
       "min         0.08      10.01         3.50                80.00\n",
       "25%        24.00      23.63         4.80               100.00\n",
       "50%        43.00      27.32         5.80               140.00\n",
       "75%        60.00      29.58         6.20               159.00\n",
       "max        80.00      95.69         9.00               300.00"
      ]
     },
     "execution_count": 10,
     "metadata": {},
     "output_type": "execute_result"
    }
   ],
   "source": [
    "# Analisis descriptivo\n",
    "df[num_cols].describe().round(2)"
   ]
  },
  {
   "cell_type": "markdown",
   "id": "d5701e7d",
   "metadata": {},
   "source": [
    "**Inferencia**\n",
    "\n",
    "- **Edad (Age):** La edad promedio es de 41.89 años, con una mediana de 43 años, lo que sugiere una distribución de edad relativamente equilibrada en el conjunto de datos.\n",
    "\n",
    "- **Hipertensión (Hypertension) y Enfermedad Cardíaca (Heart Disease):** La mayoría de las personas no tienen hipertensión ni enfermedad cardíaca, con valores bajos en ambas columnas.\n",
    "\n",
    "- **Índice de Masa Corporal (BMI):** El valor promedio del índice de masa corporal es de 27.32, indicando una tendencia hacia el sobrepeso en promedio.\n",
    "\n",
    "- **Nivel de HbA1c (HbA1c Level) y Nivel de Glucosa en Sangre (Blood Glucose Level):** Los valores promedio para ambos indicadores están dentro de rangos normales.\n",
    "\n",
    "- **Diabetes:** Alrededor del 8% de las personas tienen diabetes en el conjunto de datos, mientras que el 92% no la tienen.\n"
   ]
  },
  {
   "cell_type": "code",
   "execution_count": 11,
   "id": "ecd35f81",
   "metadata": {},
   "outputs": [
    {
     "data": {
      "text/plain": [
       "gender                 0\n",
       "age                    0\n",
       "hypertension           0\n",
       "heart_disease          0\n",
       "smoking_history        0\n",
       "bmi                    0\n",
       "HbA1c_level            0\n",
       "blood_glucose_level    0\n",
       "diabetes               0\n",
       "dtype: int64"
      ]
     },
     "execution_count": 11,
     "metadata": {},
     "output_type": "execute_result"
    }
   ],
   "source": [
    "#No hay valores nulos\n",
    "df.isna().sum()"
   ]
  },
  {
   "cell_type": "code",
   "execution_count": 12,
   "id": "97e8982f",
   "metadata": {},
   "outputs": [
    {
     "data": {
      "text/plain": [
       "<AxesSubplot: xlabel='diabetes', ylabel='age'>"
      ]
     },
     "execution_count": 12,
     "metadata": {},
     "output_type": "execute_result"
    },
    {
     "data": {
      "image/png": "[encoded data removed]",
      "text/plain": [
       "<Figure size 640x480 with 1 Axes>"
      ]
     },
     "metadata": {},
     "output_type": "display_data"
    }
   ],
   "source": [
    "# Columna - age\n",
    "sns.boxplot(x = df['diabetes'], y = df['age'])"
   ]
  },
  {
   "cell_type": "code",
   "execution_count": 13,
   "id": "5d375f87",
   "metadata": {
    "scrolled": false
   },
   "outputs": [
    {
     "data": {
      "text/plain": [
       "<AxesSubplot: xlabel='age', ylabel='Count'>"
      ]
     },
     "execution_count": 13,
     "metadata": {},
     "output_type": "execute_result"
    },
    {
     "data": {
      "image/png": "[encoded data removed]",
      "text/plain": [
       "<Figure size 640x480 with 1 Axes>"
      ]
     },
     "metadata": {},
     "output_type": "display_data"
    }
   ],
   "source": [
    "sns.histplot(x = df['age'], hue = df['diabetes'])"
   ]
  },
  {
   "cell_type": "markdown",
   "id": "de7f0422",
   "metadata": {},
   "source": [
    "**Inferencia**\n",
    "\n",
    "- La media de edad de las personas que tienen diabetes es mas alta que la de las personas que no la tienen.\n",
    "\n",
    "- El rango de edad de las personas que tienen diabetes es mas alto que el rango de las personas que no la tienen."
   ]
  },
  {
   "cell_type": "code",
   "execution_count": 14,
   "id": "b0cd991f",
   "metadata": {},
   "outputs": [
    {
     "data": {
      "text/plain": [
       "<AxesSubplot: xlabel='diabetes', ylabel='bmi'>"
      ]
     },
     "execution_count": 14,
     "metadata": {},
     "output_type": "execute_result"
    },
    {
     "data": {
      "image/png": "[encoded data removed]",
      "text/plain": [
       "<Figure size 640x480 with 1 Axes>"
      ]
     },
     "metadata": {},
     "output_type": "display_data"
    }
   ],
   "source": [
    "# Columna - bmi\n",
    "sns.boxplot(x = df['diabetes'], y = df['bmi'])"
   ]
  },
  {
   "cell_type": "code",
   "execution_count": 15,
   "id": "9714cb3c",
   "metadata": {},
   "outputs": [
    {
     "data": {
      "text/plain": [
       "<AxesSubplot: xlabel='bmi', ylabel='Count'>"
      ]
     },
     "execution_count": 15,
     "metadata": {},
     "output_type": "execute_result"
    },
    {
     "data": {
      "image/png": "[encoded data removed]",
      "text/plain": [
       "<Figure size 640x480 with 1 Axes>"
      ]
     },
     "metadata": {},
     "output_type": "display_data"
    }
   ],
   "source": [
    "sns.histplot(x = df['bmi'], hue = df['diabetes'])"
   ]
  },
  {
   "cell_type": "markdown",
   "id": "534115cf",
   "metadata": {},
   "source": [
    "**Inferencia**\n",
    "\n",
    "- No existe gran diferencia entre la media del bmi de las personas que tienen diabetes y que no la tienen.\n",
    "\n",
    "- El rango de bmi de las personas que tienen diabetes es mas alto que el rango de las personas que no la tienen."
   ]
  },
  {
   "cell_type": "code",
   "execution_count": 16,
   "id": "19ed4b8c",
   "metadata": {},
   "outputs": [
    {
     "data": {
      "text/plain": [
       "<AxesSubplot: xlabel='diabetes', ylabel='HbA1c_level'>"
      ]
     },
     "execution_count": 16,
     "metadata": {},
     "output_type": "execute_result"
    },
    {
     "data": {
      "image/png": "[encoded data removed]",
      "text/plain": [
       "<Figure size 640x480 with 1 Axes>"
      ]
     },
     "metadata": {},
     "output_type": "display_data"
    }
   ],
   "source": [
    "# Columna - HbA1c_level\n",
    "sns.boxplot(x = df['diabetes'], y = df['HbA1c_level'])"
   ]
  },
  {
   "cell_type": "markdown",
   "id": "4741a7bc",
   "metadata": {},
   "source": [
    "**Inferencia**\n",
    "\n",
    "- La media del 'HbA1c_level' de las personas que tienen diabetes es mas alta de quienes no tienen diabetes.\n",
    "\n",
    "- El rango de 'HbA1c_level' de las personas que tienen diabetes es mas alto que el rango de las personas que no la tienen."
   ]
  },
  {
   "cell_type": "code",
   "execution_count": 17,
   "id": "e9071665",
   "metadata": {},
   "outputs": [
    {
     "data": {
      "text/plain": [
       "<AxesSubplot: xlabel='HbA1c_level', ylabel='Count'>"
      ]
     },
     "execution_count": 17,
     "metadata": {},
     "output_type": "execute_result"
    },
    {
     "data": {
      "image/png": "[encoded data removed]",
      "text/plain": [
       "<Figure size 640x480 with 1 Axes>"
      ]
     },
     "metadata": {},
     "output_type": "display_data"
    }
   ],
   "source": [
    "sns.histplot(x = df['HbA1c_level'], hue = df['diabetes'])"
   ]
  },
  {
   "cell_type": "markdown",
   "id": "a49b4f8a",
   "metadata": {},
   "source": [
    "**Inferencia**\n",
    "\n",
    "- Se aprecia que las personas con diabetes tienen un 'HbA1c_level' sobre 5 en todos los casos."
   ]
  },
  {
   "cell_type": "code",
   "execution_count": 18,
   "id": "6b3e1a52",
   "metadata": {},
   "outputs": [
    {
     "data": {
      "text/plain": [
       "<AxesSubplot: xlabel='diabetes', ylabel='blood_glucose_level'>"
      ]
     },
     "execution_count": 18,
     "metadata": {},
     "output_type": "execute_result"
    },
    {
     "data": {
      "image/png": "[encoded data removed]",
      "text/plain": [
       "<Figure size 640x480 with 1 Axes>"
      ]
     },
     "metadata": {},
     "output_type": "display_data"
    }
   ],
   "source": [
    "# Columna - blood_glucose_level\n",
    "sns.boxplot(x = df['diabetes'], y = df['blood_glucose_level'])"
   ]
  },
  {
   "cell_type": "markdown",
   "id": "e117217f",
   "metadata": {},
   "source": [
    "**Inferencia**\n",
    "\n",
    "- La media del 'blood_glucose_level' de las personas que tienen diabetes es mas alta de quienes no tienen diabetes.\n",
    "\n",
    "- El rango de 'blood_glucose_level' de las personas que tienen diabetes es mas alto que el rango de las personas que no la tienen."
   ]
  },
  {
   "cell_type": "code",
   "execution_count": 19,
   "id": "888e9511",
   "metadata": {},
   "outputs": [
    {
     "data": {
      "text/plain": [
       "<AxesSubplot: xlabel='blood_glucose_level', ylabel='Count'>"
      ]
     },
     "execution_count": 19,
     "metadata": {},
     "output_type": "execute_result"
    },
    {
     "data": {
      "image/png": "[encoded data removed]",
      "text/plain": [
       "<Figure size 640x480 with 1 Axes>"
      ]
     },
     "metadata": {},
     "output_type": "display_data"
    }
   ],
   "source": [
    "sns.histplot(x = df['blood_glucose_level'], hue = df['diabetes'])"
   ]
  },
  {
   "cell_type": "code",
   "execution_count": 20,
   "id": "628c6c0f",
   "metadata": {},
   "outputs": [],
   "source": [
    "# Función para realizar una prueba de chi-cuadrado entre una característica categórica y la característica objetivo.\n",
    "def chi_sq_test(ct):\n",
    "    # input crosstab of 2 categorical variables\n",
    "    stat, p, dof, expected = chi2_contingency(ct)\n",
    "\n",
    "    # interpret p-value\n",
    "    alpha = 0.05\n",
    "    print(\"p value is \" + str(p))\n",
    "    if p <= alpha:\n",
    "        print('Both variables are Dependent (reject H0)')\n",
    "    else:\n",
    "        print('Both variables are Independent (H0 holds true)')"
   ]
  },
  {
   "cell_type": "code",
   "execution_count": 21,
   "id": "19911fa1",
   "metadata": {},
   "outputs": [],
   "source": [
    "# Función para trazar un gráfico de barras apiladas entre una característica categórica y la variable objetivo, que también nos ayuda a identificar la variable dependiente utilizando la función chi-cuadrado. Este paso es la selección de características.\n",
    "def cat_col_test(df, cat_colname, target_colname):\n",
    "    \n",
    "    print(f\"Column name - {cat_colname}\")\n",
    "    ct = pd.crosstab(df[cat_colname],df[target_colname])\n",
    "    chi_sq_test(ct)\n",
    "    ax = ct.plot(kind='bar',stacked=True, rot = 45)\n",
    "    ax.legend(title='mark', bbox_to_anchor=(1, 1.02), loc='upper left')\n",
    "\n",
    "    for c in ax.containers:\n",
    "        ax.bar_label(c, label_type='center')\n",
    "    plt.show()"
   ]
  },
  {
   "cell_type": "code",
   "execution_count": 22,
   "id": "27c3c7a1",
   "metadata": {},
   "outputs": [
    {
     "name": "stdout",
     "output_type": "stream",
     "text": [
      "Column name - gender\n",
      "p value is 7.953383718307459e-32\n",
      "Both variables are Dependent (reject H0)\n"
     ]
    },
    {
     "data": {
      "image/png": "[encoded data removed]",
      "text/plain": [
       "<Figure size 640x480 with 1 Axes>"
      ]
     },
     "metadata": {},
     "output_type": "display_data"
    },
    {
     "name": "stdout",
     "output_type": "stream",
     "text": [
      "Column name - smoking_history\n",
      "p value is 0.0\n",
      "Both variables are Dependent (reject H0)\n"
     ]
    },
    {
     "data": {
      "image/png": "[encoded data removed]",
      "text/plain": [
       "<Figure size 640x480 with 1 Axes>"
      ]
     },
     "metadata": {},
     "output_type": "display_data"
    },
    {
     "name": "stdout",
     "output_type": "stream",
     "text": [
      "Column name - diabetes\n",
      "p value is 0.0\n",
      "Both variables are Dependent (reject H0)\n"
     ]
    },
    {
     "data": {
      "image/png": "[encoded data removed]",
      "text/plain": [
       "<Figure size 640x480 with 1 Axes>"
      ]
     },
     "metadata": {},
     "output_type": "display_data"
    },
    {
     "name": "stdout",
     "output_type": "stream",
     "text": [
      "Column name - hypertension\n",
      "p value is 0.0\n",
      "Both variables are Dependent (reject H0)\n"
     ]
    },
    {
     "data": {
      "image/png": "[encoded data removed]",
      "text/plain": [
       "<Figure size 640x480 with 1 Axes>"
      ]
     },
     "metadata": {},
     "output_type": "display_data"
    },
    {
     "name": "stdout",
     "output_type": "stream",
     "text": [
      "Column name - heart_disease\n",
      "p value is 0.0\n",
      "Both variables are Dependent (reject H0)\n"
     ]
    },
    {
     "data": {
      "image/png": "[encoded data removed]",
      "text/plain": [
       "<Figure size 640x480 with 1 Axes>"
      ]
     },
     "metadata": {},
     "output_type": "display_data"
    }
   ],
   "source": [
    "for c in cat_cols:\n",
    "    cat_col_test(df, c, 'diabetes')"
   ]
  },
  {
   "cell_type": "markdown",
   "id": "2f9739c9",
   "metadata": {},
   "source": [
    "**Inferencia**\n",
    "\n",
    "- Se concluye que todas las variables revisadas son dependientes de la variable objetivo, lo que significa que existe una relación significativa entre ellas y se rechaza la hipótesis nula (H0)."
   ]
  },
  {
   "cell_type": "code",
   "execution_count": 23,
   "id": "0c80341f",
   "metadata": {},
   "outputs": [],
   "source": [
    "# Crear una nueva columna 'grupo_de_edad' basada en la columna 'age'\n",
    "bins = [0, 29, 60, df['age'].max()]\n",
    "labels = ['joven', 'adulto', 'anciano']\n",
    "\n",
    "df['grupo_de_edad'] = pd.cut(df['age'], bins=bins, labels=labels)"
   ]
  },
  {
   "cell_type": "code",
   "execution_count": 24,
   "id": "9fed19db",
   "metadata": {},
   "outputs": [
    {
     "data": {
      "text/html": [
       "<div>\n",
       "<style scoped>\n",
       "    .dataframe tbody tr th:only-of-type {\n",
       "        vertical-align: middle;\n",
       "    }\n",
       "\n",
       "    .dataframe tbody tr th {\n",
       "        vertical-align: top;\n",
       "    }\n",
       "\n",
       "    .dataframe thead th {\n",
       "        text-align: right;\n",
       "    }\n",
       "</style>\n",
       "<table border=\"1\" class=\"dataframe\">\n",
       "  <thead>\n",
       "    <tr style=\"text-align: right;\">\n",
       "      <th></th>\n",
       "      <th>gender</th>\n",
       "      <th>age</th>\n",
       "      <th>hypertension</th>\n",
       "      <th>heart_disease</th>\n",
       "      <th>smoking_history</th>\n",
       "      <th>bmi</th>\n",
       "      <th>HbA1c_level</th>\n",
       "      <th>blood_glucose_level</th>\n",
       "      <th>diabetes</th>\n",
       "      <th>grupo_de_edad</th>\n",
       "    </tr>\n",
       "  </thead>\n",
       "  <tbody>\n",
       "    <tr>\n",
       "      <th>0</th>\n",
       "      <td>Female</td>\n",
       "      <td>80.0</td>\n",
       "      <td>0</td>\n",
       "      <td>1</td>\n",
       "      <td>never</td>\n",
       "      <td>25.19</td>\n",
       "      <td>6.6</td>\n",
       "      <td>140</td>\n",
       "      <td>0</td>\n",
       "      <td>anciano</td>\n",
       "    </tr>\n",
       "    <tr>\n",
       "      <th>1</th>\n",
       "      <td>Female</td>\n",
       "      <td>54.0</td>\n",
       "      <td>0</td>\n",
       "      <td>0</td>\n",
       "      <td>No Info</td>\n",
       "      <td>27.32</td>\n",
       "      <td>6.6</td>\n",
       "      <td>80</td>\n",
       "      <td>0</td>\n",
       "      <td>adulto</td>\n",
       "    </tr>\n",
       "    <tr>\n",
       "      <th>2</th>\n",
       "      <td>Male</td>\n",
       "      <td>28.0</td>\n",
       "      <td>0</td>\n",
       "      <td>0</td>\n",
       "      <td>never</td>\n",
       "      <td>27.32</td>\n",
       "      <td>5.7</td>\n",
       "      <td>158</td>\n",
       "      <td>0</td>\n",
       "      <td>joven</td>\n",
       "    </tr>\n",
       "    <tr>\n",
       "      <th>3</th>\n",
       "      <td>Female</td>\n",
       "      <td>36.0</td>\n",
       "      <td>0</td>\n",
       "      <td>0</td>\n",
       "      <td>current</td>\n",
       "      <td>23.45</td>\n",
       "      <td>5.0</td>\n",
       "      <td>155</td>\n",
       "      <td>0</td>\n",
       "      <td>adulto</td>\n",
       "    </tr>\n",
       "    <tr>\n",
       "      <th>4</th>\n",
       "      <td>Male</td>\n",
       "      <td>76.0</td>\n",
       "      <td>1</td>\n",
       "      <td>1</td>\n",
       "      <td>current</td>\n",
       "      <td>20.14</td>\n",
       "      <td>4.8</td>\n",
       "      <td>155</td>\n",
       "      <td>0</td>\n",
       "      <td>anciano</td>\n",
       "    </tr>\n",
       "  </tbody>\n",
       "</table>\n",
       "</div>"
      ],
      "text/plain": [
       "   gender   age  hypertension  heart_disease smoking_history    bmi  \\\n",
       "0  Female  80.0             0              1           never  25.19   \n",
       "1  Female  54.0             0              0         No Info  27.32   \n",
       "2    Male  28.0             0              0           never  27.32   \n",
       "3  Female  36.0             0              0         current  23.45   \n",
       "4    Male  76.0             1              1         current  20.14   \n",
       "\n",
       "   HbA1c_level  blood_glucose_level  diabetes grupo_de_edad  \n",
       "0          6.6                  140         0       anciano  \n",
       "1          6.6                   80         0        adulto  \n",
       "2          5.7                  158         0         joven  \n",
       "3          5.0                  155         0        adulto  \n",
       "4          4.8                  155         0       anciano  "
      ]
     },
     "execution_count": 24,
     "metadata": {},
     "output_type": "execute_result"
    }
   ],
   "source": [
    "df.head()"
   ]
  },
  {
   "cell_type": "code",
   "execution_count": 32,
   "id": "0642c310",
   "metadata": {
    "scrolled": true
   },
   "outputs": [
    {
     "data": {
      "text/plain": [
       "<Figure size 800x600 with 0 Axes>"
      ]
     },
     "metadata": {},
     "output_type": "display_data"
    },
    {
     "data": {
      "image/png": "[encoded data removed]",
      "text/plain": [
       "<Figure size 640x480 with 1 Axes>"
      ]
     },
     "metadata": {},
     "output_type": "display_data"
    }
   ],
   "source": [
    "# Creamos un gráfico de barras que muestra la relación entre grupo_de_edad y diabetes\n",
    "plt.figure(figsize=(8, 6))\n",
    "df.groupby(['grupo_de_edad', 'diabetes']).size().unstack().plot(kind='bar', stacked=True)\n",
    "plt.xlabel('Grupo de Edad')\n",
    "plt.ylabel('Número de Personas')\n",
    "plt.title('Relación entre Grupo de Edad y Diabetes')\n",
    "plt.legend(title='Diabetes', labels=['No Diabetes', 'Diabetes'])\n",
    "plt.show()"
   ]
  },
  {
   "cell_type": "markdown",
   "id": "bc842d2f",
   "metadata": {},
   "source": [
    "**Inferencia**\n",
    "\n",
    "- Existe una mayor cantidad de personas con diabetes en los grupos de adultos y ancianos en comparacion del grupo joven."
   ]
  },
  {
   "cell_type": "code",
   "execution_count": 25,
   "id": "9bdb2b17",
   "metadata": {},
   "outputs": [],
   "source": [
    "# Transformamos nuestras columnas categoricas\n",
    "columnas_categoricas = [\"gender\", \"smoking_history\", \"grupo_de_edad\"]\n",
    "\n",
    "# Aplicamos codificación one-hot a las columnas categóricas\n",
    "df_dummies = pd.get_dummies(df, columns=columnas_categoricas)"
   ]
  },
  {
   "cell_type": "code",
   "execution_count": 26,
   "id": "143a2cdf",
   "metadata": {},
   "outputs": [
    {
     "data": {
      "text/html": [
       "<div>\n",
       "<style scoped>\n",
       "    .dataframe tbody tr th:only-of-type {\n",
       "        vertical-align: middle;\n",
       "    }\n",
       "\n",
       "    .dataframe tbody tr th {\n",
       "        vertical-align: top;\n",
       "    }\n",
       "\n",
       "    .dataframe thead th {\n",
       "        text-align: right;\n",
       "    }\n",
       "</style>\n",
       "<table border=\"1\" class=\"dataframe\">\n",
       "  <thead>\n",
       "    <tr style=\"text-align: right;\">\n",
       "      <th></th>\n",
       "      <th>age</th>\n",
       "      <th>hypertension</th>\n",
       "      <th>heart_disease</th>\n",
       "      <th>bmi</th>\n",
       "      <th>HbA1c_level</th>\n",
       "      <th>blood_glucose_level</th>\n",
       "      <th>diabetes</th>\n",
       "      <th>gender_Female</th>\n",
       "      <th>gender_Male</th>\n",
       "      <th>gender_Other</th>\n",
       "      <th>smoking_history_No Info</th>\n",
       "      <th>smoking_history_current</th>\n",
       "      <th>smoking_history_ever</th>\n",
       "      <th>smoking_history_former</th>\n",
       "      <th>smoking_history_never</th>\n",
       "      <th>smoking_history_not current</th>\n",
       "      <th>grupo_de_edad_joven</th>\n",
       "      <th>grupo_de_edad_adulto</th>\n",
       "      <th>grupo_de_edad_anciano</th>\n",
       "    </tr>\n",
       "  </thead>\n",
       "  <tbody>\n",
       "    <tr>\n",
       "      <th>0</th>\n",
       "      <td>80.0</td>\n",
       "      <td>0</td>\n",
       "      <td>1</td>\n",
       "      <td>25.19</td>\n",
       "      <td>6.6</td>\n",
       "      <td>140</td>\n",
       "      <td>0</td>\n",
       "      <td>1</td>\n",
       "      <td>0</td>\n",
       "      <td>0</td>\n",
       "      <td>0</td>\n",
       "      <td>0</td>\n",
       "      <td>0</td>\n",
       "      <td>0</td>\n",
       "      <td>1</td>\n",
       "      <td>0</td>\n",
       "      <td>0</td>\n",
       "      <td>0</td>\n",
       "      <td>1</td>\n",
       "    </tr>\n",
       "    <tr>\n",
       "      <th>1</th>\n",
       "      <td>54.0</td>\n",
       "      <td>0</td>\n",
       "      <td>0</td>\n",
       "      <td>27.32</td>\n",
       "      <td>6.6</td>\n",
       "      <td>80</td>\n",
       "      <td>0</td>\n",
       "      <td>1</td>\n",
       "      <td>0</td>\n",
       "      <td>0</td>\n",
       "      <td>1</td>\n",
       "      <td>0</td>\n",
       "      <td>0</td>\n",
       "      <td>0</td>\n",
       "      <td>0</td>\n",
       "      <td>0</td>\n",
       "      <td>0</td>\n",
       "      <td>1</td>\n",
       "      <td>0</td>\n",
       "    </tr>\n",
       "    <tr>\n",
       "      <th>2</th>\n",
       "      <td>28.0</td>\n",
       "      <td>0</td>\n",
       "      <td>0</td>\n",
       "      <td>27.32</td>\n",
       "      <td>5.7</td>\n",
       "      <td>158</td>\n",
       "      <td>0</td>\n",
       "      <td>0</td>\n",
       "      <td>1</td>\n",
       "      <td>0</td>\n",
       "      <td>0</td>\n",
       "      <td>0</td>\n",
       "      <td>0</td>\n",
       "      <td>0</td>\n",
       "      <td>1</td>\n",
       "      <td>0</td>\n",
       "      <td>1</td>\n",
       "      <td>0</td>\n",
       "      <td>0</td>\n",
       "    </tr>\n",
       "    <tr>\n",
       "      <th>3</th>\n",
       "      <td>36.0</td>\n",
       "      <td>0</td>\n",
       "      <td>0</td>\n",
       "      <td>23.45</td>\n",
       "      <td>5.0</td>\n",
       "      <td>155</td>\n",
       "      <td>0</td>\n",
       "      <td>1</td>\n",
       "      <td>0</td>\n",
       "      <td>0</td>\n",
       "      <td>0</td>\n",
       "      <td>1</td>\n",
       "      <td>0</td>\n",
       "      <td>0</td>\n",
       "      <td>0</td>\n",
       "      <td>0</td>\n",
       "      <td>0</td>\n",
       "      <td>1</td>\n",
       "      <td>0</td>\n",
       "    </tr>\n",
       "    <tr>\n",
       "      <th>4</th>\n",
       "      <td>76.0</td>\n",
       "      <td>1</td>\n",
       "      <td>1</td>\n",
       "      <td>20.14</td>\n",
       "      <td>4.8</td>\n",
       "      <td>155</td>\n",
       "      <td>0</td>\n",
       "      <td>0</td>\n",
       "      <td>1</td>\n",
       "      <td>0</td>\n",
       "      <td>0</td>\n",
       "      <td>1</td>\n",
       "      <td>0</td>\n",
       "      <td>0</td>\n",
       "      <td>0</td>\n",
       "      <td>0</td>\n",
       "      <td>0</td>\n",
       "      <td>0</td>\n",
       "      <td>1</td>\n",
       "    </tr>\n",
       "  </tbody>\n",
       "</table>\n",
       "</div>"
      ],
      "text/plain": [
       "    age  hypertension  heart_disease    bmi  HbA1c_level  blood_glucose_level  \\\n",
       "0  80.0             0              1  25.19          6.6                  140   \n",
       "1  54.0             0              0  27.32          6.6                   80   \n",
       "2  28.0             0              0  27.32          5.7                  158   \n",
       "3  36.0             0              0  23.45          5.0                  155   \n",
       "4  76.0             1              1  20.14          4.8                  155   \n",
       "\n",
       "   diabetes  gender_Female  gender_Male  gender_Other  \\\n",
       "0         0              1            0             0   \n",
       "1         0              1            0             0   \n",
       "2         0              0            1             0   \n",
       "3         0              1            0             0   \n",
       "4         0              0            1             0   \n",
       "\n",
       "   smoking_history_No Info  smoking_history_current  smoking_history_ever  \\\n",
       "0                        0                        0                     0   \n",
       "1                        1                        0                     0   \n",
       "2                        0                        0                     0   \n",
       "3                        0                        1                     0   \n",
       "4                        0                        1                     0   \n",
       "\n",
       "   smoking_history_former  smoking_history_never  smoking_history_not current  \\\n",
       "0                       0                      1                            0   \n",
       "1                       0                      0                            0   \n",
       "2                       0                      1                            0   \n",
       "3                       0                      0                            0   \n",
       "4                       0                      0                            0   \n",
       "\n",
       "   grupo_de_edad_joven  grupo_de_edad_adulto  grupo_de_edad_anciano  \n",
       "0                    0                     0                      1  \n",
       "1                    0                     1                      0  \n",
       "2                    1                     0                      0  \n",
       "3                    0                     1                      0  \n",
       "4                    0                     0                      1  "
      ]
     },
     "execution_count": 26,
     "metadata": {},
     "output_type": "execute_result"
    }
   ],
   "source": [
    "df_dummies.head()"
   ]
  },
  {
   "cell_type": "code",
   "execution_count": 31,
   "id": "4e92e0bc",
   "metadata": {},
   "outputs": [
    {
     "name": "stdout",
     "output_type": "stream",
     "text": [
      "                                  age  hypertension  heart_disease       bmi  \\\n",
      "age                          1.000000      0.251171       0.233354  0.337396   \n",
      "hypertension                 0.251171      1.000000       0.121262  0.147666   \n",
      "heart_disease                0.233354      0.121262       1.000000  0.061198   \n",
      "bmi                          0.337396      0.147666       0.061198  1.000000   \n",
      "HbA1c_level                  0.101354      0.080939       0.067589  0.082997   \n",
      "blood_glucose_level          0.110672      0.084429       0.070066  0.091261   \n",
      "diabetes                     0.258008      0.197823       0.171727  0.214357   \n",
      "gender_Female                0.030480     -0.014318      -0.077832  0.023016   \n",
      "gender_Male                 -0.030282      0.014423       0.077911 -0.023021   \n",
      "gender_Other                -0.007348     -0.003816      -0.002718  0.000119   \n",
      "smoking_history_No Info     -0.276945     -0.117210      -0.052398 -0.222553   \n",
      "smoking_history_current      0.030946      0.017930       0.007604  0.053617   \n",
      "smoking_history_ever         0.065768      0.023124       0.040671  0.044343   \n",
      "smoking_history_former       0.216481      0.083401       0.095194  0.111312   \n",
      "smoking_history_never        0.065498      0.045953      -0.030843  0.086849   \n",
      "smoking_history_not current  0.067663      0.000997       0.007922  0.034979   \n",
      "grupo_de_edad_joven         -0.811221     -0.188066      -0.138931 -0.362788   \n",
      "grupo_de_edad_adulto         0.140846     -0.004317      -0.075985  0.258893   \n",
      "grupo_de_edad_anciano        0.729379      0.212284       0.241866  0.097317   \n",
      "\n",
      "                             HbA1c_level  blood_glucose_level  diabetes  \\\n",
      "age                             0.101354             0.110672  0.258008   \n",
      "hypertension                    0.080939             0.084429  0.197823   \n",
      "heart_disease                   0.067589             0.070066  0.171727   \n",
      "bmi                             0.082997             0.091261  0.214357   \n",
      "HbA1c_level                     1.000000             0.166733  0.400660   \n",
      "blood_glucose_level             0.166733             1.000000  0.419558   \n",
      "diabetes                        0.400660             0.419558  1.000000   \n",
      "gender_Female                  -0.020015            -0.017200 -0.037553   \n",
      "gender_Male                     0.020058             0.017189  0.037666   \n",
      "gender_Other                   -0.001528             0.000457 -0.004090   \n",
      "smoking_history_No Info        -0.045979            -0.051635 -0.118939   \n",
      "smoking_history_current         0.006123             0.012447  0.019606   \n",
      "smoking_history_ever            0.009655             0.006267  0.024080   \n",
      "smoking_history_former          0.037306             0.040688  0.097917   \n",
      "smoking_history_never           0.010684             0.012475  0.027267   \n",
      "smoking_history_not current     0.009830             0.008613  0.020734   \n",
      "grupo_de_edad_joven            -0.078138            -0.078913 -0.190189   \n",
      "grupo_de_edad_adulto           -0.002867            -0.010971 -0.016423   \n",
      "grupo_de_edad_anciano           0.089454             0.099775  0.228764   \n",
      "\n",
      "                             gender_Female  gender_Male  gender_Other  \\\n",
      "age                               0.030480    -0.030282     -0.007348   \n",
      "hypertension                     -0.014318     0.014423     -0.003816   \n",
      "heart_disease                    -0.077832     0.077911     -0.002718   \n",
      "bmi                               0.023016    -0.023021      0.000119   \n",
      "HbA1c_level                      -0.020015     0.020058     -0.001528   \n",
      "blood_glucose_level              -0.017200     0.017189      0.000457   \n",
      "diabetes                         -0.037553     0.037666     -0.004090   \n",
      "gender_Female                     1.000000    -0.999629     -0.015948   \n",
      "gender_Male                      -0.999629     1.000000     -0.011285   \n",
      "gender_Other                     -0.015948    -0.011285      1.000000   \n",
      "smoking_history_No Info          -0.053810     0.053833     -0.000695   \n",
      "smoking_history_current          -0.026517     0.026636     -0.004293   \n",
      "smoking_history_ever             -0.011019     0.010991      0.001062   \n",
      "smoking_history_former           -0.048927     0.049048     -0.004310   \n",
      "smoking_history_never             0.098682    -0.098547     -0.005181   \n",
      "smoking_history_not current       0.011419    -0.011985      0.020760   \n",
      "grupo_de_edad_joven              -0.028894     0.028672      0.008219   \n",
      "grupo_de_edad_adulto              0.030976    -0.030941     -0.001364   \n",
      "grupo_de_edad_anciano            -0.004349     0.004552     -0.007464   \n",
      "\n",
      "                             smoking_history_No Info  smoking_history_current  \\\n",
      "age                                        -0.276945                 0.030946   \n",
      "hypertension                               -0.117210                 0.017930   \n",
      "heart_disease                              -0.052398                 0.007604   \n",
      "bmi                                        -0.222553                 0.053617   \n",
      "HbA1c_level                                -0.045979                 0.006123   \n",
      "blood_glucose_level                        -0.051635                 0.012447   \n",
      "diabetes                                   -0.118939                 0.019606   \n",
      "gender_Female                              -0.053810                -0.026517   \n",
      "gender_Male                                 0.053833                 0.026636   \n",
      "gender_Other                               -0.000695                -0.004293   \n",
      "smoking_history_No Info                     1.000000                -0.239002   \n",
      "smoking_history_current                    -0.239002                 1.000000   \n",
      "smoking_history_ever                       -0.152562                -0.065343   \n",
      "smoking_history_former                     -0.239938                -0.102766   \n",
      "smoking_history_never                      -0.549299                -0.235267   \n",
      "smoking_history_not current                -0.196099                -0.083990   \n",
      "grupo_de_edad_joven                         0.269284                -0.071533   \n",
      "grupo_de_edad_adulto                       -0.175873                 0.115754   \n",
      "grupo_de_edad_anciano                      -0.091270                -0.056405   \n",
      "\n",
      "                             smoking_history_ever  smoking_history_former  \\\n",
      "age                                      0.065768                0.216481   \n",
      "hypertension                             0.023124                0.083401   \n",
      "heart_disease                            0.040671                0.095194   \n",
      "bmi                                      0.044343                0.111312   \n",
      "HbA1c_level                              0.009655                0.037306   \n",
      "blood_glucose_level                      0.006267                0.040688   \n",
      "diabetes                                 0.024080                0.097917   \n",
      "gender_Female                           -0.011019               -0.048927   \n",
      "gender_Male                              0.010991                0.049048   \n",
      "gender_Other                             0.001062               -0.004310   \n",
      "smoking_history_No Info                 -0.152562               -0.239938   \n",
      "smoking_history_current                 -0.065343               -0.102766   \n",
      "smoking_history_ever                     1.000000               -0.065598   \n",
      "smoking_history_former                  -0.065598                1.000000   \n",
      "smoking_history_never                   -0.150177               -0.236187   \n",
      "smoking_history_not current             -0.053613               -0.084319   \n",
      "grupo_de_edad_joven                     -0.069918               -0.170015   \n",
      "grupo_de_edad_adulto                     0.049426                0.010822   \n",
      "grupo_de_edad_anciano                    0.019304                0.174705   \n",
      "\n",
      "                             smoking_history_never  \\\n",
      "age                                       0.065498   \n",
      "hypertension                              0.045953   \n",
      "heart_disease                            -0.030843   \n",
      "bmi                                       0.086849   \n",
      "HbA1c_level                               0.010684   \n",
      "blood_glucose_level                       0.012475   \n",
      "diabetes                                  0.027267   \n",
      "gender_Female                             0.098682   \n",
      "gender_Male                              -0.098547   \n",
      "gender_Other                             -0.005181   \n",
      "smoking_history_No Info                  -0.549299   \n",
      "smoking_history_current                  -0.235267   \n",
      "smoking_history_ever                     -0.150177   \n",
      "smoking_history_former                   -0.236187   \n",
      "smoking_history_never                     1.000000   \n",
      "smoking_history_not current              -0.193034   \n",
      "grupo_de_edad_joven                      -0.067050   \n",
      "grupo_de_edad_adulto                      0.073530   \n",
      "grupo_de_edad_anciano                    -0.012017   \n",
      "\n",
      "                             smoking_history_not current  grupo_de_edad_joven  \\\n",
      "age                                             0.067663            -0.811221   \n",
      "hypertension                                    0.000997            -0.188066   \n",
      "heart_disease                                   0.007922            -0.138931   \n",
      "bmi                                             0.034979            -0.362788   \n",
      "HbA1c_level                                     0.009830            -0.078138   \n",
      "blood_glucose_level                             0.008613            -0.078913   \n",
      "diabetes                                        0.020734            -0.190189   \n",
      "gender_Female                                   0.011419            -0.028894   \n",
      "gender_Male                                    -0.011985             0.028672   \n",
      "gender_Other                                    0.020760             0.008219   \n",
      "smoking_history_No Info                        -0.196099             0.269284   \n",
      "smoking_history_current                        -0.083990            -0.071533   \n",
      "smoking_history_ever                           -0.053613            -0.069918   \n",
      "smoking_history_former                         -0.084319            -0.170015   \n",
      "smoking_history_never                          -0.193034            -0.067050   \n",
      "smoking_history_not current                     1.000000            -0.053501   \n",
      "grupo_de_edad_joven                            -0.053501             1.000000   \n",
      "grupo_de_edad_adulto                            0.011374            -0.613321   \n",
      "grupo_de_edad_anciano                           0.045667            -0.385426   \n",
      "\n",
      "                             grupo_de_edad_adulto  grupo_de_edad_anciano  \n",
      "age                                      0.140846               0.729379  \n",
      "hypertension                            -0.004317               0.212284  \n",
      "heart_disease                           -0.075985               0.241866  \n",
      "bmi                                      0.258893               0.097317  \n",
      "HbA1c_level                             -0.002867               0.089454  \n",
      "blood_glucose_level                     -0.010971               0.099775  \n",
      "diabetes                                -0.016423               0.228764  \n",
      "gender_Female                            0.030976              -0.004349  \n",
      "gender_Male                             -0.030941               0.004552  \n",
      "gender_Other                            -0.001364              -0.007464  \n",
      "smoking_history_No Info                 -0.175873              -0.091270  \n",
      "smoking_history_current                  0.115754              -0.056405  \n",
      "smoking_history_ever                     0.049426               0.019304  \n",
      "smoking_history_former                   0.010822               0.174705  \n",
      "smoking_history_never                    0.073530              -0.012017  \n",
      "smoking_history_not current              0.011374               0.045667  \n",
      "grupo_de_edad_joven                     -0.613321              -0.385426  \n",
      "grupo_de_edad_adulto                     1.000000              -0.492421  \n",
      "grupo_de_edad_anciano                   -0.492421               1.000000  \n"
     ]
    }
   ],
   "source": [
    "# Calcular la matriz de correlación\n",
    "correlation_matrix = df_dummies.corr()\n",
    "\n",
    "# Mostrar la matriz de correlación\n",
    "print(correlation_matrix)"
   ]
  },
  {
   "cell_type": "code",
   "execution_count": 35,
   "id": "3a6ad507",
   "metadata": {},
   "outputs": [],
   "source": [
    "# Elimina las columnas de los grupos de edad del DataFrame df_dummies\n",
    "df_dummies = df_dummies.drop([\"grupo_de_edad_joven\", \"grupo_de_edad_adulto\", \"grupo_de_edad_anciano\"], axis=1)"
   ]
  },
  {
   "cell_type": "markdown",
   "id": "875d6ead",
   "metadata": {},
   "source": [
    "**Inferencia**\n",
    "\n",
    "- Se eliminan los grupos de edad por su alta correlación con el resto de las variables."
   ]
  },
  {
   "cell_type": "code",
   "execution_count": 42,
   "id": "b6ccdeea",
   "metadata": {},
   "outputs": [
    {
     "data": {
      "text/html": [
       "<div>\n",
       "<style scoped>\n",
       "    .dataframe tbody tr th:only-of-type {\n",
       "        vertical-align: middle;\n",
       "    }\n",
       "\n",
       "    .dataframe tbody tr th {\n",
       "        vertical-align: top;\n",
       "    }\n",
       "\n",
       "    .dataframe thead th {\n",
       "        text-align: right;\n",
       "    }\n",
       "</style>\n",
       "<table border=\"1\" class=\"dataframe\">\n",
       "  <thead>\n",
       "    <tr style=\"text-align: right;\">\n",
       "      <th></th>\n",
       "      <th>age</th>\n",
       "      <th>hypertension</th>\n",
       "      <th>heart_disease</th>\n",
       "      <th>bmi</th>\n",
       "      <th>HbA1c_level</th>\n",
       "      <th>blood_glucose_level</th>\n",
       "      <th>diabetes</th>\n",
       "      <th>gender_Female</th>\n",
       "      <th>gender_Male</th>\n",
       "      <th>gender_Other</th>\n",
       "      <th>smoking_history_No Info</th>\n",
       "      <th>smoking_history_current</th>\n",
       "      <th>smoking_history_ever</th>\n",
       "      <th>smoking_history_former</th>\n",
       "      <th>smoking_history_never</th>\n",
       "      <th>smoking_history_not current</th>\n",
       "    </tr>\n",
       "  </thead>\n",
       "  <tbody>\n",
       "    <tr>\n",
       "      <th>0</th>\n",
       "      <td>80.0</td>\n",
       "      <td>0</td>\n",
       "      <td>1</td>\n",
       "      <td>25.19</td>\n",
       "      <td>6.6</td>\n",
       "      <td>140</td>\n",
       "      <td>0</td>\n",
       "      <td>1</td>\n",
       "      <td>0</td>\n",
       "      <td>0</td>\n",
       "      <td>0</td>\n",
       "      <td>0</td>\n",
       "      <td>0</td>\n",
       "      <td>0</td>\n",
       "      <td>1</td>\n",
       "      <td>0</td>\n",
       "    </tr>\n",
       "    <tr>\n",
       "      <th>1</th>\n",
       "      <td>54.0</td>\n",
       "      <td>0</td>\n",
       "      <td>0</td>\n",
       "      <td>27.32</td>\n",
       "      <td>6.6</td>\n",
       "      <td>80</td>\n",
       "      <td>0</td>\n",
       "      <td>1</td>\n",
       "      <td>0</td>\n",
       "      <td>0</td>\n",
       "      <td>1</td>\n",
       "      <td>0</td>\n",
       "      <td>0</td>\n",
       "      <td>0</td>\n",
       "      <td>0</td>\n",
       "      <td>0</td>\n",
       "    </tr>\n",
       "    <tr>\n",
       "      <th>2</th>\n",
       "      <td>28.0</td>\n",
       "      <td>0</td>\n",
       "      <td>0</td>\n",
       "      <td>27.32</td>\n",
       "      <td>5.7</td>\n",
       "      <td>158</td>\n",
       "      <td>0</td>\n",
       "      <td>0</td>\n",
       "      <td>1</td>\n",
       "      <td>0</td>\n",
       "      <td>0</td>\n",
       "      <td>0</td>\n",
       "      <td>0</td>\n",
       "      <td>0</td>\n",
       "      <td>1</td>\n",
       "      <td>0</td>\n",
       "    </tr>\n",
       "    <tr>\n",
       "      <th>3</th>\n",
       "      <td>36.0</td>\n",
       "      <td>0</td>\n",
       "      <td>0</td>\n",
       "      <td>23.45</td>\n",
       "      <td>5.0</td>\n",
       "      <td>155</td>\n",
       "      <td>0</td>\n",
       "      <td>1</td>\n",
       "      <td>0</td>\n",
       "      <td>0</td>\n",
       "      <td>0</td>\n",
       "      <td>1</td>\n",
       "      <td>0</td>\n",
       "      <td>0</td>\n",
       "      <td>0</td>\n",
       "      <td>0</td>\n",
       "    </tr>\n",
       "    <tr>\n",
       "      <th>4</th>\n",
       "      <td>76.0</td>\n",
       "      <td>1</td>\n",
       "      <td>1</td>\n",
       "      <td>20.14</td>\n",
       "      <td>4.8</td>\n",
       "      <td>155</td>\n",
       "      <td>0</td>\n",
       "      <td>0</td>\n",
       "      <td>1</td>\n",
       "      <td>0</td>\n",
       "      <td>0</td>\n",
       "      <td>1</td>\n",
       "      <td>0</td>\n",
       "      <td>0</td>\n",
       "      <td>0</td>\n",
       "      <td>0</td>\n",
       "    </tr>\n",
       "  </tbody>\n",
       "</table>\n",
       "</div>"
      ],
      "text/plain": [
       "    age  hypertension  heart_disease    bmi  HbA1c_level  blood_glucose_level  \\\n",
       "0  80.0             0              1  25.19          6.6                  140   \n",
       "1  54.0             0              0  27.32          6.6                   80   \n",
       "2  28.0             0              0  27.32          5.7                  158   \n",
       "3  36.0             0              0  23.45          5.0                  155   \n",
       "4  76.0             1              1  20.14          4.8                  155   \n",
       "\n",
       "   diabetes  gender_Female  gender_Male  gender_Other  \\\n",
       "0         0              1            0             0   \n",
       "1         0              1            0             0   \n",
       "2         0              0            1             0   \n",
       "3         0              1            0             0   \n",
       "4         0              0            1             0   \n",
       "\n",
       "   smoking_history_No Info  smoking_history_current  smoking_history_ever  \\\n",
       "0                        0                        0                     0   \n",
       "1                        1                        0                     0   \n",
       "2                        0                        0                     0   \n",
       "3                        0                        1                     0   \n",
       "4                        0                        1                     0   \n",
       "\n",
       "   smoking_history_former  smoking_history_never  smoking_history_not current  \n",
       "0                       0                      1                            0  \n",
       "1                       0                      0                            0  \n",
       "2                       0                      1                            0  \n",
       "3                       0                      0                            0  \n",
       "4                       0                      0                            0  "
      ]
     },
     "execution_count": 42,
     "metadata": {},
     "output_type": "execute_result"
    }
   ],
   "source": [
    "df_dummies.head()"
   ]
  },
  {
   "cell_type": "code",
   "execution_count": 46,
   "id": "c3033a74",
   "metadata": {},
   "outputs": [],
   "source": [
    "df_dummies_sin_outliers = df_dummies\n",
    "\n",
    "# Define una función para eliminar los outliers basados en IQR\n",
    "def remove_outliers_iqr(df_dummies_sin_outliers, column_name):\n",
    "    Q1 = df_dummies_sin_outliers[column_name].quantile(0.25)\n",
    "    Q3 = df_dummies_sin_outliers[column_name].quantile(0.75)\n",
    "    IQR = Q3 - Q1\n",
    "    lower_bound = Q1 - 1.5 * IQR\n",
    "    upper_bound = Q3 + 1.5 * IQR\n",
    "    return df_dummies_sin_outliers[(df_dummies_sin_outliers[column_name] >= lower_bound) & (df_dummies_sin_outliers[column_name] <= upper_bound)]\n",
    "\n",
    "# Lista de columnas en las que deseas eliminar outliers\n",
    "columns_to_remove_outliers = ['bmi']\n",
    "\n",
    "# Elimina outliers en las columnas seleccionadas\n",
    "for column in columns_to_remove_outliers:\n",
    "    data_sin_outliers = remove_outliers_iqr(df_dummies_sin_outliers, column)\n",
    "\n"
   ]
  },
  {
   "cell_type": "markdown",
   "id": "5a3d5b32",
   "metadata": {},
   "source": [
    "**Inferencia**\n",
    "\n",
    "- tenemos el datafreme sin outliers 'data_sin_outliers' y el data frame con outliers 'df_dummies'"
   ]
  },
  {
   "cell_type": "code",
   "execution_count": 48,
   "id": "8b7093a3",
   "metadata": {},
   "outputs": [],
   "source": [
    "from sklearn.model_selection import train_test_split\n",
    "\n",
    "# Dividir los datos en características (X) y la variable objetivo (y)\n",
    "X = df_dummies.drop('diabetes', axis=1)\n",
    "y = df_dummies['diabetes']\n",
    "\n",
    "X_SO = data_sin_outliers.drop('diabetes', axis=1)\n",
    "y_SO = data_sin_outliers['diabetes']\n",
    "\n",
    "# Dividir los datos en un conjunto de entrenamiento y un conjunto de prueba (por ejemplo, 80% entrenamiento, 20% prueba)\n",
    "X_train, X_test, y_train, y_test = train_test_split(X, y, test_size=0.2, random_state=42)\n",
    "X_train_SO, X_test_SO, y_train_SO, y_test_SO = train_test_split(X_SO, y_SO, test_size=0.2, random_state=42)"
   ]
  },
  {
   "cell_type": "code",
   "execution_count": 39,
   "id": "0e7a4c18",
   "metadata": {},
   "outputs": [
    {
     "name": "stdout",
     "output_type": "stream",
     "text": [
      "Collecting xgboostNote: you may need to restart the kernel to use updated packages.\n",
      "\n",
      "  Downloading xgboost-2.0.0-py3-none-win_amd64.whl (99.7 MB)\n",
      "     ---------------------------------------- 99.7/99.7 MB 4.2 MB/s eta 0:00:00\n",
      "Requirement already satisfied: scipy in c:\\users\\alondra\\miniconda3\\lib\\site-packages (from xgboost) (1.10.0)\n",
      "Requirement already satisfied: numpy in c:\\users\\alondra\\miniconda3\\lib\\site-packages (from xgboost) (1.23.5)\n",
      "Installing collected packages: xgboost\n",
      "Successfully installed xgboost-2.0.0\n"
     ]
    }
   ],
   "source": [
    "pip install xgboost"
   ]
  },
  {
   "cell_type": "code",
   "execution_count": 49,
   "id": "5627f5b6",
   "metadata": {},
   "outputs": [
    {
     "name": "stdout",
     "output_type": "stream",
     "text": [
      "Modelo: Regresión Logística\n",
      "Puntuaciones de Validación Cruzada: [0.91619798 0.91618226 0.91618226]\n",
      "Puntuación Media de Validación Cruzada: 0.9161874993452558\n",
      "Precisión en conjunto de prueba: 0.8477157360406091\n",
      "Recall en conjunto de prueba: 0.5866510538641686\n",
      "F1-Score en conjunto de prueba: 0.6934256055363321\n",
      "\n",
      "\n",
      "Modelo: Random Forest\n",
      "Puntuaciones de Validación Cruzada: [0.91319835 0.91411963 0.91261954]\n",
      "Puntuación Media de Validación Cruzada: 0.9133125071348079\n",
      "Precisión en conjunto de prueba: 0.9467741935483871\n",
      "Recall en conjunto de prueba: 0.6873536299765808\n",
      "F1-Score en conjunto de prueba: 0.7964721845318861\n",
      "\n",
      "\n",
      "Modelo: SVM\n",
      "Puntuaciones de Validación Cruzada: [0.91432321 0.91449466 0.91449466]\n",
      "Puntuación Media de Validación Cruzada: 0.9144375071435965\n",
      "Precisión en conjunto de prueba: 1.0\n",
      "Recall en conjunto de prueba: 0.3729508196721312\n",
      "F1-Score en conjunto de prueba: 0.5432835820895523\n",
      "\n",
      "\n",
      "Modelo: XGBoost\n",
      "Puntuaciones de Validación Cruzada: [0.91301087 0.912057   0.91111944]\n",
      "Puntuación Media de Validación Cruzada: 0.9120624407229426\n",
      "Precisión en conjunto de prueba: 0.9515488482922955\n",
      "Recall en conjunto de prueba: 0.7014051522248244\n",
      "F1-Score en conjunto de prueba: 0.8075497135153352\n",
      "\n",
      "\n"
     ]
    }
   ],
   "source": [
    "import numpy as np\n",
    "from sklearn.model_selection import cross_val_score\n",
    "from sklearn.metrics import accuracy_score, precision_score, recall_score, f1_score\n",
    "from sklearn.linear_model import LogisticRegression\n",
    "from sklearn.ensemble import RandomForestClassifier\n",
    "from sklearn.svm import SVC\n",
    "from xgboost import XGBClassifier\n",
    "\n",
    "# Define los modelos que deseas evaluar\n",
    "models = [\n",
    "    (\"Regresión Logística\", LogisticRegression()),\n",
    "    (\"Random Forest\", RandomForestClassifier()),\n",
    "    (\"SVM\", SVC()),\n",
    "    (\"XGBoost\", XGBClassifier())\n",
    "]\n",
    "\n",
    "# Define la cantidad de \"folds\" para la validación cruzada\n",
    "n_folds = 3\n",
    "\n",
    "# Toma una muestra más pequeña de tus datos para acelerar la evaluación\n",
    "sample_size = 0.2  # Puedes ajustar esto si es necesario\n",
    "\n",
    "# Realiza validación cruzada para cada modelo y muestra las métricas\n",
    "for name, model in models:\n",
    "    print(f\"Modelo: {name}\")\n",
    "    scores = cross_val_score(model, X_train.sample(frac=sample_size), y_train.sample(frac=sample_size), cv=n_folds)\n",
    "    print(f\"Puntuaciones de Validación Cruzada: {scores}\")\n",
    "    print(f\"Puntuación Media de Validación Cruzada: {np.mean(scores)}\")\n",
    "\n",
    "    # Entrena y evalúa el modelo en el conjunto de prueba\n",
    "    model.fit(X_train, y_train)\n",
    "    y_pred = model.predict(X_test)\n",
    "    \n",
    "    # Calcula métricas de evaluación en el conjunto de prueba\n",
    "    accuracy = accuracy_score(y_test, y_pred)\n",
    "    precision = precision_score(y_test, y_pred)\n",
    "    recall = recall_score(y_test, y_pred)\n",
    "    f1 = f1_score(y_test, y_pred)\n",
    "    \n",
    "    print(f\"Precisión en conjunto de prueba: {precision}\")\n",
    "    print(f\"Recall en conjunto de prueba: {recall}\")\n",
    "    print(f\"F1-Score en conjunto de prueba: {f1}\")\n",
    "    print(\"\\n\")\n"
   ]
  },
  {
   "cell_type": "code",
   "execution_count": 50,
   "id": "7a051b64",
   "metadata": {},
   "outputs": [
    {
     "name": "stdout",
     "output_type": "stream",
     "text": [
      "Modelo: Regresión Logística - Conjunto SO\n",
      "Puntuaciones de Validación Cruzada: [0.92433414 0.92452069 0.92431887]\n",
      "Puntuación Media de Validación Cruzada: 0.924391232146624\n",
      "Precisión en conjunto de prueba SO: 0.8557114228456913\n",
      "Recall en conjunto de prueba SO: 0.6215429403202329\n",
      "F1-Score en conjunto de prueba SO: 0.7200674536256324\n",
      "\n",
      "\n",
      "Modelo: Random Forest - Conjunto SO\n",
      "Puntuaciones de Validación Cruzada: [0.9188862  0.92129162 0.91907164]\n",
      "Puntuación Media de Validación Cruzada: 0.9197498226573463\n",
      "Precisión en conjunto de prueba SO: 0.9525731584258325\n",
      "Recall en conjunto de prueba SO: 0.6870451237263464\n",
      "F1-Score en conjunto de prueba SO: 0.7983086680761099\n",
      "\n",
      "\n",
      "Modelo: SVM - Conjunto SO\n",
      "Puntuaciones de Validación Cruzada: [0.92150928 0.92149344 0.92149344]\n",
      "Puntuación Media de Validación Cruzada: 0.9214987212054034\n",
      "Precisión en conjunto de prueba SO: 1.0\n",
      "Recall en conjunto de prueba SO: 0.3544395924308588\n",
      "F1-Score en conjunto de prueba SO: 0.523374529822676\n",
      "\n",
      "\n",
      "Modelo: XGBoost - Conjunto SO\n",
      "Puntuaciones de Validación Cruzada: [0.92171106 0.92189707 0.92270434]\n",
      "Puntuación Media de Validación Cruzada: 0.9221041566729026\n",
      "Precisión en conjunto de prueba SO: 0.9556898288016112\n",
      "Recall en conjunto de prueba SO: 0.6906841339155749\n",
      "F1-Score en conjunto de prueba SO: 0.801858893113646\n",
      "\n",
      "\n"
     ]
    }
   ],
   "source": [
    "# Define los modelos que deseas evaluar\n",
    "models = [\n",
    "    (\"Regresión Logística\", LogisticRegression()),\n",
    "    (\"Random Forest\", RandomForestClassifier()),\n",
    "    (\"SVM\", SVC()),\n",
    "    (\"XGBoost\", XGBClassifier())\n",
    "]\n",
    "\n",
    "# Define la cantidad de \"folds\" para la validación cruzada\n",
    "n_folds = 3\n",
    "\n",
    "# Toma una muestra más pequeña de tus datos para acelerar la evaluación\n",
    "sample_size = 0.2  # Puedes ajustar esto si es necesario\n",
    "\n",
    "# Realiza validación cruzada para cada modelo y muestra las métricas en el conjunto SO\n",
    "for name, model in models:\n",
    "    print(f\"Modelo: {name} - Conjunto SO\")\n",
    "    scores = cross_val_score(model, X_train_SO.sample(frac=sample_size), y_train_SO.sample(frac=sample_size), cv=n_folds)\n",
    "    print(f\"Puntuaciones de Validación Cruzada: {scores}\")\n",
    "    print(f\"Puntuación Media de Validación Cruzada: {np.mean(scores)}\")\n",
    "\n",
    "    # Entrena y evalúa el modelo en el conjunto de prueba SO\n",
    "    model.fit(X_train_SO, y_train_SO)\n",
    "    y_pred_SO = model.predict(X_test_SO)\n",
    "    \n",
    "    # Calcula métricas de evaluación en el conjunto de prueba SO\n",
    "    accuracy_SO = accuracy_score(y_test_SO, y_pred_SO)\n",
    "    precision_SO = precision_score(y_test_SO, y_pred_SO)\n",
    "    recall_SO = recall_score(y_test_SO, y_pred_SO)\n",
    "    f1_SO = f1_score(y_test_SO, y_pred_SO)\n",
    "    \n",
    "    print(f\"Precisión en conjunto de prueba SO: {precision_SO}\")\n",
    "    print(f\"Recall en conjunto de prueba SO: {recall_SO}\")\n",
    "    print(f\"F1-Score en conjunto de prueba SO: {f1_SO}\")\n",
    "    print(\"\\n\")"
   ]
  },
  {
   "cell_type": "markdown",
   "id": "890829d9",
   "metadata": {},
   "source": [
    "**Inferencia**\n",
    "\n",
    "- Segun el analisis y en vista del desequilibrio de clases en conjunto con la importancia de detectar falsos positivos, el modelo que se ajusta mas a nuestros requerimientos es el xGboost en nuestro conjunto sin outliers (SO) ya que nos da el accuracy mas alto (0.95) y el f1-score mas alto (0.801)"
   ]
  },
  {
   "cell_type": "code",
   "execution_count": 51,
   "id": "c63d1921",
   "metadata": {},
   "outputs": [
    {
     "name": "stdout",
     "output_type": "stream",
     "text": [
      "Mejores hiperparámetros encontrados:\n",
      "{'subsample': 1.0, 'n_estimators': 200, 'min_child_weight': 4, 'max_depth': 6, 'learning_rate': 0.01, 'colsample_bytree': 0.9}\n",
      "Precisión en conjunto de prueba: 1.0\n",
      "Recall en conjunto de prueba: 0.6775836972343523\n",
      "F1-Score en conjunto de prueba: 0.8078091106290672\n"
     ]
    }
   ],
   "source": [
    "from sklearn.model_selection import RandomizedSearchCV\n",
    "\n",
    "# Define el modelo XGBoost\n",
    "xgb_model = XGBClassifier()\n",
    "\n",
    "# Define los hiperparámetros que deseas sintonizar\n",
    "param_dist = {\n",
    "    'n_estimators': [100, 200, 300],\n",
    "    'learning_rate': [0.01, 0.1, 0.2, 0.3],\n",
    "    'max_depth': [3, 4, 5, 6, 7],\n",
    "    'min_child_weight': [1, 2, 3, 4],\n",
    "    'subsample': [0.8, 0.9, 1.0],\n",
    "    'colsample_bytree': [0.8, 0.9, 1.0],\n",
    "}\n",
    "\n",
    "# Realiza la búsqueda aleatoria de hiperparámetros\n",
    "random_search = RandomizedSearchCV(\n",
    "    xgb_model, param_distributions=param_dist, n_iter=10,\n",
    "    scoring='accuracy', cv=5, random_state=42, n_jobs=-1\n",
    ")\n",
    "\n",
    "# Ajusta el modelo a los datos\n",
    "random_search.fit(X_train_SO, y_train_SO)\n",
    "\n",
    "# Muestra los mejores hiperparámetros encontrados\n",
    "print(\"Mejores hiperparámetros encontrados:\")\n",
    "print(random_search.best_params_)\n",
    "\n",
    "# Evalúa el modelo con los mejores hiperparámetros en el conjunto de prueba\n",
    "y_pred = random_search.best_estimator_.predict(X_test_SO)\n",
    "accuracy = accuracy_score(y_test_SO, y_pred)\n",
    "precision = precision_score(y_test_SO, y_pred)\n",
    "recall = recall_score(y_test_SO, y_pred)\n",
    "f1 = f1_score(y_test_SO, y_pred)\n",
    "\n",
    "print(f\"Precisión en conjunto de prueba: {precision}\")\n",
    "print(f\"Recall en conjunto de prueba: {recall}\")\n",
    "print(f\"F1-Score en conjunto de prueba: {f1}\")\n"
   ]
  },
  {
   "cell_type": "markdown",
   "id": "f7d86b52",
   "metadata": {},
   "source": [
    "**Inferencia**\n",
    "\n",
    "Según el análisis, los mejores hiperparámetros para nuestro modelo son los siguientes:\n",
    "\n",
    "- `subsample`: 1.0\n",
    "- `n_estimators`: 200\n",
    "- `min_child_weight`: 4\n",
    "- `max_depth`: 6\n",
    "- `learning_rate`: 0.01\n",
    "- `colsample_bytree`: 0.9\n",
    "\n",
    "Estos hiperparámetros han sido determinados como los más óptimos para nuestro modelo después de un proceso de búsqueda y optimización.\n"
   ]
  },
  {
   "cell_type": "code",
   "execution_count": 52,
   "id": "b4b96979",
   "metadata": {},
   "outputs": [
    {
     "data": {
      "image/png": "[encoded data removed]",
      "text/plain": [
       "<Figure size 640x480 with 1 Axes>"
      ]
     },
     "metadata": {},
     "output_type": "display_data"
    }
   ],
   "source": [
    "import numpy as np\n",
    "import matplotlib.pyplot as plt\n",
    "from sklearn.model_selection import learning_curve\n",
    "\n",
    "def plot_learning_curve(estimator, title, X, y, ylim=None, cv=None,\n",
    "                        n_jobs=None, train_sizes=np.linspace(.1, 1.0, 5)):\n",
    "    \"\"\"\n",
    "    Genera una curva de aprendizaje para evaluar si el modelo tiene sobreajuste.\n",
    "    \n",
    "    Parameters:\n",
    "        estimator: Modelo de aprendizaje supervisado (clasificador o regresor)\n",
    "        title: Título del gráfico\n",
    "        X: Matriz de características\n",
    "        y: Vector de etiquetas\n",
    "        ylim: Tupla (ymin, ymax) para establecer los límites en el eje y\n",
    "        cv: Estrategia de validación cruzada\n",
    "        n_jobs: Número de núcleos CPU para calcular en paralelo (None para usar todos disponibles)\n",
    "        train_sizes: Tamaños de conjunto de entrenamiento para los que se calcularán las puntuaciones de aprendizaje\n",
    "    \n",
    "    Returns:\n",
    "        Gráfico de la curva de aprendizaje\n",
    "    \"\"\"\n",
    "    plt.figure()\n",
    "    plt.title(title)\n",
    "    if ylim is not None:\n",
    "        plt.ylim(*ylim)\n",
    "    plt.xlabel(\"Tamaño del Conjunto de Entrenamiento\")\n",
    "    plt.ylabel(\"Puntuación\")\n",
    "    train_sizes, train_scores, test_scores = learning_curve(\n",
    "        estimator, X_SO, y_SO, cv=cv, n_jobs=n_jobs, train_sizes=train_sizes)\n",
    "    train_scores_mean = np.mean(train_scores, axis=1)\n",
    "    train_scores_std = np.std(train_scores, axis=1)\n",
    "    test_scores_mean = np.mean(test_scores, axis=1)\n",
    "    test_scores_std = np.std(test_scores, axis=1)\n",
    "    \n",
    "    plt.grid()\n",
    "\n",
    "    plt.fill_between(train_sizes, train_scores_mean - train_scores_std,\n",
    "                     train_scores_mean + train_scores_std, alpha=0.1,\n",
    "                     color=\"r\")\n",
    "    plt.fill_between(train_sizes, test_scores_mean - test_scores_std,\n",
    "                     test_scores_mean + test_scores_std, alpha=0.1, color=\"g\")\n",
    "    plt.plot(train_sizes, train_scores_mean, 'o-', color=\"r\",\n",
    "             label=\"Puntuación de Entrenamiento\")\n",
    "    plt.plot(train_sizes, test_scores_mean, 'o-', color=\"g\",\n",
    "             label=\"Puntuación de Validación Cruzada\")\n",
    "\n",
    "    plt.legend(loc=\"best\")\n",
    "    return plt\n",
    "\n",
    "# Uso del código:\n",
    "title = \"Curva de Aprendizaje (XGBoost)\"\n",
    "estimator = XGBClassifier()\n",
    "plot_learning_curve(estimator, title, X_train_SO, y_train_SO, cv=5, n_jobs=-1)\n",
    "\n",
    "plt.show()\n"
   ]
  },
  {
   "cell_type": "markdown",
   "id": "f100a14f",
   "metadata": {},
   "source": [
    "**Inferencia**\n",
    "\n",
    "- Según la curva de aprendizaje obtenida la brecha disminuye a medida que aumenta el tamaño del conjunto de entrenamiento, lo que es una indicación de que el sobreajuste se está reduciendo."
   ]
  },
  {
   "cell_type": "markdown",
   "id": "0eb43816",
   "metadata": {},
   "source": [
    "## Conclusión sobre la Importancia de Detectar Casos de Diabetes\n",
    "\n",
    "La detección temprana y precisa de casos de diabetes es fundamental para mejorar la calidad de vida de los pacientes, reducir los costos de atención médica y promover estilos de vida saludables. Algunas conclusiones clave en relación a las métricas obtenidas con nuestro modelo de predicción de diabetes son:\n",
    "\n",
    "- **Mejora en la Calidad de Vida:** La detección temprana permite un manejo efectivo de la diabetes, reduciendo el riesgo de complicaciones graves y mejorando la calidad de vida.\n",
    "\n",
    "- **Reducción de Costos:** Ayuda a reducir los costos asociados con tratamientos médicos intensivos y hospitalizaciones.\n",
    "\n",
    "- **Promoción de Estilos de Vida Saludables:** La detección fomenta hábitos más saludables, como una alimentación adecuada y el ejercicio regular.\n",
    "\n",
    "- **Prevención de Complicaciones:** Contribuye a prevenir o retrasar complicaciones de la enfermedad.\n",
    "\n",
    "- **Identificación de Factores de Riesgo:** Permite identificar a personas en riesgo y aplicar medidas preventivas.\n",
    "\n",
    "En relación a nuestro modelo, las métricas obtenidas, como la precisión, el recall y el F1-Score, indican su capacidad para detectar casos de diabetes. Estas métricas son esenciales para evaluar la eficacia del modelo y su utilidad en la práctica clínica."
   ]
  },
  {
   "cell_type": "code",
   "execution_count": null,
   "id": "41c6e0ad",
   "metadata": {},
   "outputs": [],
   "source": []
  }
 ],
 "metadata": {
  "kernelspec": {
   "display_name": "Python 3 (ipykernel)",
   "language": "python",
   "name": "python3"
  },
  "language_info": {
   "codemirror_mode": {
    "name": "ipython",
    "version": 3
   },
   "file_extension": ".py",
   "mimetype": "text/x-python",
   "name": "python",
   "nbconvert_exporter": "python",
   "pygments_lexer": "ipython3",
   "version": "3.10.9"
  }
 },
 "nbformat": 4,
 "nbformat_minor": 5
}
